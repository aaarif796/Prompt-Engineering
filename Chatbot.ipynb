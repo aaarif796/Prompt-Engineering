{
 "cells": [
  {
   "cell_type": "code",
   "execution_count": 9,
   "id": "c9f219d2-446d-4c64-8864-6b974079a200",
   "metadata": {},
   "outputs": [],
   "source": [
    "import openai\n",
    "import os\n",
    "from IPython.display import Markdown, HTML, display\n",
    "import json\n",
    "import panel as pn\n",
    "import ipywidgets as widgets"
   ]
  },
  {
   "cell_type": "markdown",
   "id": "c82e4cf8-32ab-4d08-b8a2-8ffffeb9e67c",
   "metadata": {},
   "source": [
    "## Setup"
   ]
  },
  {
   "cell_type": "code",
   "execution_count": 2,
   "id": "d66358da-9296-48ca-ab4b-0eb3f47ac857",
   "metadata": {},
   "outputs": [],
   "source": [
    "from dotenv import load_dotenv, find_dotenv\n",
    "_ = load_dotenv(find_dotenv())\n",
    "\n",
    "openai.api_key = os.getenv('OPENAI_API_KEY')"
   ]
  },
  {
   "cell_type": "markdown",
   "id": "08fecf48-aefa-4a63-851b-4c6e448fe9c7",
   "metadata": {},
   "source": [
    "### Helper Function"
   ]
  },
  {
   "cell_type": "code",
   "execution_count": 3,
   "id": "c125f253-ea1c-4760-bf64-8cbb2e985ef8",
   "metadata": {},
   "outputs": [],
   "source": [
    "def get_completion_message(messages, model=\"gpt-4o-mini\", temperature=0):\n",
    "    response = openai.chat.completions.create(\n",
    "        model=model,\n",
    "        messages=messages,\n",
    "        temperature= temperature,\n",
    "    )\n",
    "    return response.choices[0].message.content"
   ]
  },
  {
   "cell_type": "markdown",
   "id": "2d492591-b781-4ca4-a281-8656748fb2ff",
   "metadata": {},
   "source": [
    "# The Chat Format\n",
    "\n",
    "In this notebook, you will explore how you can utilize the chat format to have extended conversations with chatbots personalized or specialized for specific tasks or behaviors."
   ]
  },
  {
   "cell_type": "code",
   "execution_count": 4,
   "id": "a43b05f0-1daa-484d-aca8-70e85dfe499a",
   "metadata": {},
   "outputs": [],
   "source": [
    "messages =  [  \n",
    "{'role':'system', 'content':'You are an assistant that speaks like Gen Z.'},    \n",
    "{'role':'user', 'content':'tell me a joke'},   \n",
    "{'role':'assistant', 'content':'Why did the chicken cross the road'},   \n",
    "{'role':'user', 'content':'I don\\'t know'}  ]"
   ]
  },
  {
   "cell_type": "code",
   "execution_count": 5,
   "id": "ed2aa020-8550-4187-926a-3f5ef8a01ac1",
   "metadata": {},
   "outputs": [
    {
     "name": "stdout",
     "output_type": "stream",
     "text": [
      "To get to the other side! Classic, right? 😂 But for real, I can hit you with something fresher if you want!\n"
     ]
    }
   ],
   "source": [
    "response = get_completion_message(messages, temperature=1)\n",
    "print(response)"
   ]
  },
  {
   "cell_type": "code",
   "execution_count": 6,
   "id": "77389605-1919-466d-b1dc-14a200832a3b",
   "metadata": {},
   "outputs": [
    {
     "name": "stdout",
     "output_type": "stream",
     "text": [
      "Your name is Albatross! Is there anything else you'd like to know or discuss?\n"
     ]
    }
   ],
   "source": [
    "messages =  [  \n",
    "{'role':'system', 'content':'You are friendly chatbot.'},\n",
    "{'role':'user', 'content':'Hi, my name is Albatross'},\n",
    "{'role':'assistant', 'content': \"Hi Albatross! It's nice to meet you. \\\n",
    "Is there anything I can help you with today?\"},\n",
    "{'role':'user', 'content':'Yes, you can remind me, What is my name?'}  ]\n",
    "response = get_completion_message(messages, temperature=1)\n",
    "print(response)"
   ]
  },
  {
   "cell_type": "markdown",
   "id": "2d582d04-79d3-4152-868e-af5165f3781a",
   "metadata": {},
   "source": [
    "## OrderBot"
   ]
  },
  {
   "cell_type": "code",
   "execution_count": 7,
   "id": "8a33e025-799f-4dd5-bdfd-d6d559e37206",
   "metadata": {},
   "outputs": [],
   "source": [
    "def collect_messages(_):\n",
    "    prompt = inp.value_input\n",
    "    inp.value = ''\n",
    "    context.append({'role':'user', 'content':f\"{prompt}\"})\n",
    "    response = get_completion_message(context) \n",
    "    context.append({'role':'assistant', 'content':f\"{response}\"})\n",
    "    panels.append(\n",
    "        pn.Row('User:', pn.pane.Markdown(prompt, width=600)))\n",
    "    panels.append(\n",
    "        pn.Row('Assistant:', pn.pane.Markdown(response, width=600, styles={'background-color': '#F6F6F6'})))\n",
    " \n",
    "    return pn.Column(*panels)\n"
   ]
  },
  {
   "cell_type": "code",
   "execution_count": 12,
   "id": "2cefe8cc-866a-4136-95de-e2c476f11451",
   "metadata": {},
   "outputs": [
    {
     "data": {
      "application/vnd.jupyter.widget-view+json": {
       "model_id": "a910e42af6ad47c0aae65564d801caab",
       "version_major": 2,
       "version_minor": 0
      },
      "text/plain": [
       "Textarea(value='', placeholder='Type your message here...')"
      ]
     },
     "metadata": {},
     "output_type": "display_data"
    },
    {
     "data": {
      "application/vnd.jupyter.widget-view+json": {
       "model_id": "ab2de03a2aa145cf9ca0e942afcba3dd",
       "version_major": 2,
       "version_minor": 0
      },
      "text/plain": [
       "Button(description='Chat', style=ButtonStyle())"
      ]
     },
     "metadata": {},
     "output_type": "display_data"
    },
    {
     "data": {
      "application/vnd.jupyter.widget-view+json": {
       "model_id": "c07742623b3042d5a6f049efab96cf67",
       "version_major": 2,
       "version_minor": 0
      },
      "text/plain": [
       "Output(layout=Layout(border_bottom='1px solid black', border_left='1px solid black', border_right='1px solid b…"
      ]
     },
     "metadata": {},
     "output_type": "display_data"
    }
   ],
   "source": [
    "context = [{\n",
    "    'role': 'system',\n",
    "  'content': \"\"\"\n",
    "You are OrderBot, an automated service to collect orders for a pizza restaurant. \n",
    "You first greet the customer, then collect the order, \n",
    "and then ask if it's a pickup or delivery. \n",
    "You wait to collect the entire order, then summarize it and check for a final \n",
    "time if the customer wants to add anything else. \n",
    "If it's a delivery, you ask for an address. \n",
    "Finally you collect the payment.\n",
    "Make sure to clarify all options, extras and sizes to uniquely \n",
    "identify the item from the menu.\n",
    "You respond in a short, very conversational friendly style. \n",
    "The menu includes \n",
    "pepperoni pizza  12.95, 10.00, 7.00 \n",
    "cheese pizza   10.95, 9.25, 6.50 \n",
    "eggplant pizza   11.95, 9.75, 6.75 \n",
    "fries 4.50, 3.50 \n",
    "greek salad 7.25 \n",
    "Toppings: \n",
    "extra cheese 2.00, \n",
    "mushrooms 1.50 \n",
    "sausage 3.00 \n",
    "canadian bacon 3.50 \n",
    "AI sauce 1.50 \n",
    "peppers 1.00 \n",
    "Drinks: \n",
    "coke 3.00, 2.00, 1.00 \n",
    "sprite 3.00, 2.00, 1.00 \n",
    "bottled water 5.00 \n",
    "\"\"\"\n",
    "}]\n",
    " \n",
    "# Widgets (unchanged)\n",
    "input_box = widgets.Textarea(placeholder=\"Type your message here...\")\n",
    "send_button = widgets.Button(description=\"Chat\")\n",
    "output_box = widgets.Output(layout={'border': '1px solid black', 'height': '400px', 'overflow': 'auto'})\n",
    "\n",
    "# Chat completion helper (uses the shared `context`)\n",
    "def get_completion_message(messages, model=\"gpt-4o-mini\", temperature=0):\n",
    "    response = openai.chat.completions.create(\n",
    "        model=model,\n",
    "        messages=messages,\n",
    "        temperature=temperature,\n",
    "    )\n",
    "    return response.choices[0].message.content\n",
    "\n",
    "# Callback (append to `context` on every turn)\n",
    "def send_message(b):\n",
    "    user_message = input_box.value.strip()\n",
    "    if not user_message:\n",
    "        return\n",
    "\n",
    "    # Show user bubble\n",
    "    with output_box:\n",
    "        display(HTML(\n",
    "            f\"<div style='text-align:right; margin:4px;'>\"\n",
    "            f\"<span style='background-color:#d1e7ff; padding:8px; border-radius:8px; display:inline-block; max-width:70%;'>\"\n",
    "            f\"<b>You:</b> {user_message}</span></div>\"\n",
    "        ))\n",
    "\n",
    "    # Clear input\n",
    "    input_box.value = \"\"\n",
    "\n",
    "    # Add user message into context\n",
    "    context.append({\"role\": \"user\", \"content\": user_message})\n",
    "\n",
    "    # Get bot reply with current context (system + full history)\n",
    "    bot_reply = get_completion_message(context)\n",
    "\n",
    "    # Add assistant reply into context\n",
    "    context.append({\"role\": \"assistant\", \"content\": bot_reply})\n",
    "\n",
    "    # Show assistant bubble\n",
    "    with output_box:\n",
    "        display(HTML(\n",
    "            f\"<div style='text-align:left; margin:4px;'>\"\n",
    "            f\"<span style='background-color:#f0f0f0; padding:8px; border-radius:8px; display:inline-block; max-width:70%;'>\"\n",
    "            f\"<b>Samay:</b> {bot_reply}</span></div>\"\n",
    "        ))\n",
    "\n",
    "send_button.on_click(send_message)\n",
    "\n",
    "# Display UI\n",
    "display(input_box, send_button, output_box)"
   ]
  },
  {
   "cell_type": "code",
   "execution_count": null,
   "id": "d35678f9-477d-4675-8fe6-c007751a905b",
   "metadata": {},
   "outputs": [],
   "source": []
  }
 ],
 "metadata": {
  "kernelspec": {
   "display_name": "Python [conda env:gen_ai]",
   "language": "python",
   "name": "conda-env-gen_ai-py"
  },
  "language_info": {
   "codemirror_mode": {
    "name": "ipython",
    "version": 3
   },
   "file_extension": ".py",
   "mimetype": "text/x-python",
   "name": "python",
   "nbconvert_exporter": "python",
   "pygments_lexer": "ipython3",
   "version": "3.12.11"
  }
 },
 "nbformat": 4,
 "nbformat_minor": 5
}

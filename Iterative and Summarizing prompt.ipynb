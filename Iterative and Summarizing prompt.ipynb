{
 "cells": [
  {
   "cell_type": "code",
   "execution_count": 17,
   "id": "3e3476e7-bb8b-403c-9934-45f8d6400bc7",
   "metadata": {},
   "outputs": [],
   "source": [
    "import openai\n",
    "import os\n",
    "from IPython.display import Markdown, HTML, display\n",
    "import json"
   ]
  },
  {
   "cell_type": "markdown",
   "id": "e0bae5b0-b05a-4208-aea9-3ccc7685f415",
   "metadata": {},
   "source": [
    "## Setup"
   ]
  },
  {
   "cell_type": "code",
   "execution_count": 22,
   "id": "fab75133-7922-4f67-ae5b-d76b26b37d8a",
   "metadata": {},
   "outputs": [],
   "source": [
    "from dotenv import load_dotenv, find_dotenv\n",
    "_ = load_dotenv(find_dotenv())\n",
    "\n",
    "openai.api_key = os.getenv('OPENAI_API_KEY')"
   ]
  },
  {
   "cell_type": "markdown",
   "id": "6df151e3-5dea-455e-941c-e9cf83cad531",
   "metadata": {},
   "source": [
    "### Helper Function"
   ]
  },
  {
   "cell_type": "code",
   "execution_count": 23,
   "id": "169b1967-6ed4-468a-806c-12cea0d48c9a",
   "metadata": {},
   "outputs": [],
   "source": [
    "def get_completion(prompt, model=\"gpt-4o-mini\"):\n",
    "    messages = [{\"role\": \"user\", \"content\": prompt}]\n",
    "    response = openai.chat.completions.create(\n",
    "        model=model,\n",
    "        messages=messages,\n",
    "        temperature=0,\n",
    "    )\n",
    "    return response.choices[0].message.content"
   ]
  },
  {
   "cell_type": "markdown",
   "id": "fa68edd3-153b-44a1-b7f2-09a32f83f023",
   "metadata": {},
   "source": [
    "# Iterative Prompt Development\n",
    "In this lesson, you'll iteratively analyze and refine your prompts to generate marketing copy from a product fact sheet."
   ]
  },
  {
   "cell_type": "code",
   "execution_count": 24,
   "id": "f7fbc646-22ae-4fa4-a0d7-87b7eaf8015b",
   "metadata": {},
   "outputs": [],
   "source": [
    "flying_car = \"\"\"\n",
    "The most advance car which is not limit in it's name. It's flying high in the sky\n",
    "like plane and it's cruse in the water like yatch. It's suitable in all means of\n",
    "transportation and it's automatic. It's recent development which is eco friendly\n",
    "as it's getting energy from battery. It's speed is more than plane and bullet train\n",
    "where it speak with air like falcon. It's one of the strongest car as well.\n",
    "It's available on flipkart on sales.\n",
    "\"\"\""
   ]
  },
  {
   "cell_type": "code",
   "execution_count": 25,
   "id": "ab9d9dea-f66f-4375-9003-eaa97000353d",
   "metadata": {},
   "outputs": [
    {
     "name": "stdout",
     "output_type": "stream",
     "text": [
      "**Introducing the Future of Transportation: The Limitless Car**\n",
      "\n",
      "Experience the ultimate in innovation and versatility with the Limitless Car, the most advanced vehicle ever created. This groundbreaking marvel transcends traditional transportation, soaring through the skies like a plane and gliding effortlessly across water like a luxurious yacht. Whether you're navigating city streets, cruising along coastal highways, or taking to the skies, the Limitless Car adapts to every environment with ease.\n",
      "\n",
      "Powered by cutting-edge battery technology, this eco-friendly vehicle not only prioritizes sustainability but also delivers unparalleled performance. With speeds that surpass those of planes and bullet trains, the Limitless Car speaks to the air like a falcon, ensuring you reach your destination faster than ever before.\n",
      "\n",
      "Built for strength and durability, this remarkable car is designed to withstand the rigors of any journey, making it one of the strongest vehicles on the market. Its automatic features provide a seamless driving experience, allowing you to focus on the thrill of the ride.\n",
      "\n",
      "Don't miss your chance to own this revolutionary vehicle! The Limitless Car is now available on Flipkart at an exclusive sale price. Elevate your travel experience and embrace the future of transportation today!\n"
     ]
    }
   ],
   "source": [
    "prompt_1 = f\"\"\"\n",
    "Your task is to help for marketing team to create a attractive desciption for\n",
    "a retail website of the product based on the give information. \n",
    "Write a product description based on the information provided in the technical\n",
    "specifications delimited by triple backticks.\n",
    "Technical specifications: ```{flying_car}```\n",
    "\"\"\"\n",
    "response_fly_car_1 = get_completion(prompt_1)\n",
    "print(response_fly_car_1)\n"
   ]
  },
  {
   "cell_type": "code",
   "execution_count": 26,
   "id": "2ec70007-c5cb-4d36-b31b-cfb5ffee3486",
   "metadata": {},
   "outputs": [
    {
     "name": "stdout",
     "output_type": "stream",
     "text": [
      "Introducing the ultimate innovation in transportation: a groundbreaking vehicle that transcends limits! This advanced car soars through the skies like a plane and glides across water like a yacht. With automatic features and eco-friendly battery power, it outpaces planes and bullet trains, effortlessly cutting through the air like a falcon. Experience unmatched strength and versatility in one sleek design. Don’t miss your chance to own this revolutionary marvel—available now on Flipkart!\n"
     ]
    }
   ],
   "source": [
    "prompt_2 = f\"\"\"\n",
    "Your task is to help for marketing team to create a attractive desciption for\n",
    "a retail website of the product based on the give information. \n",
    "Write a product description based on the information provided in the technical\n",
    "specifications delimited by triple backticks.\n",
    "Used only 80 words.\n",
    "Technical specifications: ```{flying_car}```\n",
    "\"\"\"\n",
    "response_fly_car_2 = get_completion(prompt_2)\n",
    "print(response_fly_car_2)\n"
   ]
  },
  {
   "cell_type": "code",
   "execution_count": 8,
   "id": "4e47f902-a8cb-478e-a93c-2ecfe91ab897",
   "metadata": {},
   "outputs": [
    {
     "data": {
      "text/html": [
       "Here’s an attractive product description for the retail website, along with three similar product ideas, all formatted in HTML:\n",
       "\n",
       "```html\n",
       "<div class=\"product-description\">\n",
       "    <h1>The Limitless Car: Revolutionizing Transportation</h1>\n",
       "    <p>Introducing the most advanced vehicle on the market, the <strong>Limitless Car</strong>. This groundbreaking innovation transcends traditional transportation, soaring through the skies like a plane and gliding across water like a luxurious yacht. Designed for versatility, it adapts seamlessly to all forms of travel, making it the ultimate choice for modern adventurers.</p>\n",
       "    \n",
       "    <p>Powered by cutting-edge battery technology, the Limitless Car is not only automatic but also eco-friendly, ensuring a sustainable future for our planet. Experience unparalleled speed that surpasses both airplanes and bullet trains, as it effortlessly navigates the air like a falcon.</p>\n",
       "    \n",
       "    <p>Built with strength and durability in mind, this vehicle is engineered to withstand the rigors of any journey. Don't miss your chance to own this revolutionary mode of transportation, now available on <a href=\"https://www.flipkart.com\">Flipkart</a> at an exclusive sale price!</p>\n",
       "    \n",
       "    <h2>Key Features:</h2>\n",
       "    <ul>\n",
       "        <li>Multi-terrain capability: Air, land, and water</li>\n",
       "        <li>Eco-friendly battery-powered engine</li>\n",
       "        <li>Unmatched speed and performance</li>\n",
       "        <li>Automatic driving technology</li>\n",
       "        <li>Robust and durable design</li>\n",
       "    </ul>\n",
       "    \n",
       "    <p><strong>Get ready to redefine your travel experience with the Limitless Car!</strong></p>\n",
       "</div>\n",
       "\n",
       "<div class=\"similar-products\">\n",
       "    <h2>Similar Products You Might Like:</h2>\n",
       "    <div class=\"product\">\n",
       "        <h3>The Sky Cruiser</h3>\n",
       "        <p>Experience the thrill of flying with the Sky Cruiser, a hybrid vehicle that combines the best of aviation and automotive technology. Perfect for those who crave adventure!</p>\n",
       "    </div>\n",
       "    <div class=\"product\">\n",
       "        <h3>The Aqua Jet</h3>\n",
       "        <p>Transform your travel with the Aqua Jet, a state-of-the-art watercraft that offers speed and luxury on the water. Ideal for seaside escapades!</p>\n",
       "    </div>\n",
       "    <div class=\"product\">\n",
       "        <h3>The Falcon Racer</h3>\n",
       "        <p>Unleash your inner speed demon with the Falcon Racer, a high-performance car designed for speed enthusiasts. With its aerodynamic design, it’s built to fly on the road!</p>\n",
       "    </div>\n",
       "</div>\n",
       "```\n",
       "\n",
       "This HTML format provides a clear and engaging product description, highlighting the unique features of the Limitless Car while also suggesting similar products to entice potential buyers."
      ],
      "text/plain": [
       "<IPython.core.display.HTML object>"
      ]
     },
     "metadata": {},
     "output_type": "display_data"
    }
   ],
   "source": [
    "prompt_3 = f\"\"\"\n",
    "Your task is to help for marketing team to create a attractive desciption for\n",
    "a retail website of the product based on the give information. \n",
    "Generate similar product 3 mores.\n",
    "Write a product description based on the information provided in the technical\n",
    "specifications delimited by triple backticks.\n",
    "How is it display in the website\n",
    "Display in the HTML format\n",
    "Details: ```{flying_car}```\n",
    "\"\"\"\n",
    "response_fly_car_3 = get_completion(prompt_3)\n",
    "display(HTML(response_fly_car_3))"
   ]
  },
  {
   "cell_type": "markdown",
   "id": "368ec3d3-1076-46aa-946c-d6de6d0a3a82",
   "metadata": {},
   "source": [
    "# Summarizing Prompt\n",
    "You will summarize text with a focus on specific topics."
   ]
  },
  {
   "cell_type": "code",
   "execution_count": 9,
   "id": "927b678a-f9e1-4ffa-a719-3a3380b03a7f",
   "metadata": {},
   "outputs": [],
   "source": [
    "plants = \"\"\"\n",
    "The Italian cypress (Cupressus sempervirens) is an evergreen tree native to the \n",
    "eastern Mediterranean region, especially Italy, Greece, and Turkey. Known for its \n",
    "tall, narrow, columnar shape, it can grow up to 40–70 feet tall while remaining \n",
    "only about 3–6 feet wide. Its dense, dark green foliage gives it a formal and elegant\n",
    "look, which is why it is often planted in rows along pathways, gardens, or as a striking\n",
    "accent in landscapes. Unlike many broad conifers, its vertical growth habit makes it ideal for limited spaces.\n",
    "Despite being commonly referred to as a \"pine\" in some regions due to its coniferous nature, the Italian \n",
    "cypress is not a true pine. Pines belong to the genus Pinus, whereas Italian cypress is part of the \n",
    "Cupressus genus. Both are evergreen conifers with needle-like or scale-like leaves, which can cause confusion. \n",
    "The Italian cypress is particularly valued in Mediterranean-style gardens, cemeteries, and historical landmarks for \n",
    "its association with longevity, solemnity, and classical architecture.\n",
    "Italian cypress trees are hardy, drought-tolerant once established, and thrive in well-drained soils with full sunlight. \n",
    "They require minimal maintenance, though occasional pruning may be needed to maintain shape or remove dead branches. \n",
    "Thanks to their adaptability, they are grown in many parts of the world with warm climates, including California \n",
    "and parts of the Middle East. Their striking appearance, symbolic meaning, and resilience make them one of the most\n",
    "recognizable and admired coniferous plants worldwide.\n",
    "\"\"\""
   ]
  },
  {
   "cell_type": "code",
   "execution_count": 12,
   "id": "99103272-c06b-4b94-b478-c5398bb7479a",
   "metadata": {},
   "outputs": [
    {
     "name": "stdout",
     "output_type": "stream",
     "text": [
      "The Italian cypress (Cupressus sempervirens) is a tall, narrow evergreen tree valued for its elegant appearance and adaptability. It thrives in warm climates with well-drained soil and minimal maintenance. Its feasibility in India is likely, given the country's diverse climates and growing conditions.\n"
     ]
    }
   ],
   "source": [
    "s_prompt_1 = f\"\"\"\n",
    "Your task is to generate a short summary of a plants and is it feasible in India\n",
    "or not.\n",
    "Summarize the text below, delimited by triple backticks, in at most 50 words.\n",
    "Summary: ```{plants}```\n",
    "\"\"\"\n",
    "response_1 = get_completion(s_prompt_1)\n",
    "print(response_1)"
   ]
  },
  {
   "cell_type": "code",
   "execution_count": 13,
   "id": "493ae586-103a-45d6-b08a-d03bfb51cd21",
   "metadata": {},
   "outputs": [
    {
     "name": "stdout",
     "output_type": "stream",
     "text": [
      "Italian cypress is drought-tolerant, low-maintenance, and beneficial for landscapes.\n"
     ]
    }
   ],
   "source": [
    "s_prompt_2 = f\"\"\"\n",
    "Your task is to generate a short see wheather it's benificial to environment or not\n",
    "Summarize the text below, delimited by triple backticks, in at most 100 characters.\n",
    "Summary: ```{plants}```\n",
    "\"\"\"\n",
    "response_2 = get_completion(s_prompt_2)\n",
    "print(response_2)"
   ]
  },
  {
   "cell_type": "code",
   "execution_count": 16,
   "id": "786b21b8-a061-4507-967e-a4bcee0d1f49",
   "metadata": {},
   "outputs": [],
   "source": [
    "review1 = \"Sitaare Zameen Par is a sweet, uplifting and well-intentioned film, with tears and chuckles galore... makes for incredible family viewing and leaves you with a warm, fuzzy feeling at the end.Some noted it's missing a bit of emotional depth, but still highly recommend it.\"\n",
    "review2 = \"You looked after many aspects of sensitivity. Kudos to the writer, director and the dialogues... After Taare Zameen Par, a very good film has come to theatres after a big gap. ... Very well kept and captured messages. I really appreciate it.\"\n",
    "review3 = \"Fans have accused it of copying from Champions, sparking backlash for its perceived lack of originality\"\n",
    "review4 = \"I have no trust on this movie tbh... only action, religion or sequels are working.” But also acknowledged Aamir's track record of bouncing back with quality content.\"\n",
    "review5 = \"A bold distribution move in Bollywood, yet online discourse included both praise and trolling.\" "
   ]
  },
  {
   "cell_type": "code",
   "execution_count": 29,
   "id": "8e7334db-8620-47ed-b2bd-2247824cd9f6",
   "metadata": {},
   "outputs": [
    {
     "name": "stdout",
     "output_type": "stream",
     "text": [
      "**Summary:** \"Sitaare Zameen Par\" is a heartwarming film that offers a mix of humor and emotion, making it ideal for family viewing. While some critics feel it lacks emotional depth, it is still highly recommended for its uplifting nature.\n",
      "\n",
      "**Sentiment:** Positive\n",
      "\n",
      "**Rating:** 4 out of 5\n",
      "\n",
      "\n",
      "\n",
      "**Summary:** The review praises the film for its sensitivity, highlighting the efforts of the writer, director, and dialogues. It notes that the film is a commendable follow-up to \"Taare Zameen Par\" and appreciates the well-captured messages.\n",
      "\n",
      "**Sentiment:** Positive\n",
      "\n",
      "**Rating:** 4.5/5\n",
      "\n",
      "\n",
      "\n",
      "**Summary:** The review indicates that fans believe the work has copied elements from \"Champions,\" leading to criticism for its lack of originality.\n",
      "\n",
      "**Sentiment:** The review has a negative sentiment due to the backlash and accusations of unoriginality.\n",
      "\n",
      "**Rating:** 2/5\n",
      "\n",
      "\n",
      "\n",
      "**Summary:** The reviewer expresses skepticism about the movie, stating that it relies heavily on action, religion, or sequels. However, they also recognize Aamir Khan's ability to deliver quality content in the past.\n",
      "\n",
      "**Sentiment:** Mixed; the reviewer is critical but acknowledges positive aspects.\n",
      "\n",
      "**Rating:** 3/5\n",
      "\n",
      "\n",
      "\n",
      "**Summary:** The review discusses a bold distribution move in Bollywood, highlighting that it has sparked both praise and trolling in online discussions.\n",
      "\n",
      "**Sentiment:** The review has a mixed sentiment, acknowledging both positive and negative reactions.\n",
      "\n",
      "**Rating:** 3/5\n",
      "\n",
      "\n",
      "\n"
     ]
    }
   ],
   "source": [
    "movie_review = [ review1, review2, review3, review4, review5]\n",
    "for review in movie_review:\n",
    "    prompt = f\"\"\"\n",
    "    You have to perform the following task\n",
    "    Summarize: Summarize the review\n",
    "    Sentiment: How is the review\n",
    "    Rating: Give rating according to review\n",
    "    THes all will be perform for below review delimited by triple backticks:\n",
    "    Review:\n",
    "    ```{review}```\n",
    "    \"\"\"\n",
    "    print(get_completion(prompt))\n",
    "    print(\"\\n\\n\")"
   ]
  },
  {
   "cell_type": "code",
   "execution_count": null,
   "id": "a751c535-d5d6-4012-91cf-406dd442a64a",
   "metadata": {},
   "outputs": [],
   "source": []
  }
 ],
 "metadata": {
  "kernelspec": {
   "display_name": "Python 3 (ipykernel)",
   "language": "python",
   "name": "python3"
  },
  "language_info": {
   "codemirror_mode": {
    "name": "ipython",
    "version": 3
   },
   "file_extension": ".py",
   "mimetype": "text/x-python",
   "name": "python",
   "nbconvert_exporter": "python",
   "pygments_lexer": "ipython3",
   "version": "3.12.11"
  }
 },
 "nbformat": 4,
 "nbformat_minor": 5
}

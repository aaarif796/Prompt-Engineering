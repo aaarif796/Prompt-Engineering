{
 "cells": [
  {
   "cell_type": "code",
   "execution_count": 1,
   "id": "46802e61-d613-4f28-8cc4-18ce030983ee",
   "metadata": {},
   "outputs": [],
   "source": [
    "import openai\n",
    "import os\n",
    "from IPython.display import Markdown, HTML, display\n",
    "import json"
   ]
  },
  {
   "cell_type": "markdown",
   "id": "4431978d-b787-4457-954d-b8ecfbfe020a",
   "metadata": {},
   "source": [
    "## Setup"
   ]
  },
  {
   "cell_type": "code",
   "execution_count": 2,
   "id": "de6c0176-861c-47e0-9e4e-a38de7848ffe",
   "metadata": {},
   "outputs": [],
   "source": [
    "from dotenv import load_dotenv, find_dotenv\n",
    "_ = load_dotenv(find_dotenv())\n",
    "\n",
    "openai.api_key = os.getenv('OPENAI_API_KEY')"
   ]
  },
  {
   "cell_type": "markdown",
   "id": "2ed8ef1f-8598-4589-8763-86fbc8855cdb",
   "metadata": {},
   "source": [
    "### Helper Function"
   ]
  },
  {
   "cell_type": "code",
   "execution_count": 3,
   "id": "7760e59e-7053-44f2-90a1-da149f1a00c0",
   "metadata": {},
   "outputs": [],
   "source": [
    "def get_completion(prompt, model=\"gpt-4o-mini\"):\n",
    "    messages = [{\"role\": \"user\", \"content\": prompt}]\n",
    "    response = openai.chat.completions.create(\n",
    "        model=model,\n",
    "        messages=messages,\n",
    "        temperature=0,\n",
    "    )\n",
    "    return response.choices[0].message.content"
   ]
  },
  {
   "cell_type": "markdown",
   "id": "52152942-6b62-420a-bb2a-f9077073527a",
   "metadata": {},
   "source": [
    "# Inferring"
   ]
  },
  {
   "cell_type": "markdown",
   "id": "8d6a9341-6063-4961-bf5f-424b4142be09",
   "metadata": {},
   "source": [
    "### Product Review"
   ]
  },
  {
   "cell_type": "code",
   "execution_count": 4,
   "id": "4f8ce62a-291f-4ecf-9b40-203c3625c62a",
   "metadata": {},
   "outputs": [],
   "source": [
    "cnf_review = \"\"\"\n",
    "The CMF Phone 1 stands out for its bold customizable design, smooth 120 Hz AMOLED display, and clean Nothing OS that feels premium at a budget price. Performance and battery life are strong, making it reliable for daily use and even gaming. However, it misses features like NFC and wireless charging, and its camera struggles in low light.\n",
    "\"\"\""
   ]
  },
  {
   "cell_type": "code",
   "execution_count": 6,
   "id": "05f9989b-2315-4faf-b915-85bce7838820",
   "metadata": {},
   "outputs": [
    {
     "name": "stdout",
     "output_type": "stream",
     "text": [
      "The sentiment of the product review is generally positive. The reviewer highlights several strengths of the CMF Phone 1, such as its customizable design, smooth display, clean operating system, strong performance, and good battery life. However, the review also mentions some drawbacks, including the lack of NFC and wireless charging, as well as camera performance in low light. Despite these negatives, the overall tone remains favorable, emphasizing the phone's value for its price.\n"
     ]
    }
   ],
   "source": [
    "prompt_review = f\"\"\"\n",
    "What is the sentiment of the following product review,\n",
    "which is delimited with triple backticks?\n",
    "Review text: ```{cnf_review}```\n",
    "\"\"\"\n",
    "response = get_completion(prompt_review)\n",
    "print(response)"
   ]
  },
  {
   "cell_type": "code",
   "execution_count": 7,
   "id": "165d8bb0-45cd-4cda-99fc-328f2abdd253",
   "metadata": {},
   "outputs": [
    {
     "name": "stdout",
     "output_type": "stream",
     "text": [
      "**Sentiment:** Overall positive with some drawbacks.\n",
      "\n",
      "**Two-line review summary:** The CMF Phone 1 impresses with its stylish design, smooth display, and solid performance at an affordable price. However, it lacks some key features that could enhance its usability.\n",
      "\n",
      "**Drawback:** \n",
      "```\n",
      "it misses features like NFC and wireless charging, and its camera struggles in low light.\n",
      "```\n"
     ]
    }
   ],
   "source": [
    "prompt_review_seniorio = f\"\"\"\n",
    "What is the sentiment of the following text,\n",
    "give the two line review summary,\n",
    "highlight the drawback\n",
    "which is delimited with triple backticks?\n",
    "Review text: ```{cnf_review}```\n",
    "\"\"\"\n",
    "response = get_completion(prompt_review_seniorio)\n",
    "print(response)"
   ]
  },
  {
   "cell_type": "code",
   "execution_count": 8,
   "id": "6c0f6806-5563-40ce-9f0c-d908fbe266c3",
   "metadata": {},
   "outputs": [
    {
     "name": "stdout",
     "output_type": "stream",
     "text": [
      "**Sentiment of the Text:** Overall positive with some negative aspects.\n",
      "\n",
      "**Two-Line Review Summary:**  \n",
      "The CMF Phone 1 impresses with its customizable design, smooth display, and solid performance at an affordable price. However, it lacks some features and has camera limitations in low light.\n",
      "\n",
      "**List of Sentiments Present:**\n",
      "- Positive: bold customizable design, smooth 120 Hz AMOLED display, clean Nothing OS, premium feel, strong performance, reliable battery life, good for daily use and gaming.\n",
      "- Negative: misses features like NFC and wireless charging, camera struggles in low light.\n",
      "\n",
      "**Drawback Highlighted:**  \n",
      "```\n",
      "misses features like NFC and wireless charging, and its camera struggles in low light.\n",
      "```\n"
     ]
    }
   ],
   "source": [
    "prompt_review_seniorio = f\"\"\"\n",
    "What is the sentiment of the following text,\n",
    "give the two line review summary,\n",
    "also identify the list of the sentiment which are presnet in this,\n",
    "highlight the drawback\n",
    "which is delimited with triple backticks?\n",
    "Review text: ```{cnf_review}```\n",
    "\"\"\"\n",
    "response = get_completion(prompt_review_seniorio)\n",
    "print(response)"
   ]
  },
  {
   "cell_type": "code",
   "execution_count": 11,
   "id": "cf69fe4b-03d0-42f6-8bfa-0af23d361fc9",
   "metadata": {},
   "outputs": [
    {
     "name": "stdout",
     "output_type": "stream",
     "text": [
      "Is the writer of the following review expressing angry?: NO  \n",
      "The review is emphasis on which side?: Positive aspects of the CMF Phone 1 with some criticisms.\n"
     ]
    }
   ],
   "source": [
    "prompt_review_seniorio = f\"\"\"\n",
    "Is the writer of the following review expressing angry?: Yes or NO\n",
    "The review is emphsis on which side?: In one line\n",
    "The review is delimited with triple backticks:\n",
    "Review text: ```{cnf_review}```\n",
    "\"\"\"\n",
    "response = get_completion(prompt_review_seniorio)\n",
    "print(response)"
   ]
  },
  {
   "cell_type": "code",
   "execution_count": 13,
   "id": "4e4745a2-3b08-4567-8030-d918e2342d2c",
   "metadata": {},
   "outputs": [
    {
     "name": "stdout",
     "output_type": "stream",
     "text": [
      "```json\n",
      "{\n",
      "  \"company\": \"Nothing\",\n",
      "  \"product\": \"CMF Phone 1\",\n",
      "  \"features\": {\n",
      "    \"design\": \"customizable\",\n",
      "    \"display\": \"120 Hz AMOLED\",\n",
      "    \"operating_system\": \"Nothing OS\",\n",
      "    \"performance\": \"strong\",\n",
      "    \"battery_life\": \"reliable for daily use and gaming\",\n",
      "    \"camera\": \"struggles in low light\",\n",
      "    \"missing_features\": [\n",
      "      \"NFC\",\n",
      "      \"wireless charging\"\n",
      "    ]\n",
      "  },\n",
      "  \"price\": \"budget price\"\n",
      "}\n",
      "```\n"
     ]
    }
   ],
   "source": [
    "prompt_review_seniorio = f\"\"\"\n",
    "List the company of the product:\n",
    "List the features:\n",
    "List the price:\n",
    "Show the output in json format\n",
    "Review text: ```{cnf_review}```\n",
    "\"\"\"\n",
    "response = get_completion(prompt_review_seniorio)\n",
    "print(response)"
   ]
  },
  {
   "cell_type": "markdown",
   "id": "d296759b-6a7f-4365-a550-7df6ab13508c",
   "metadata": {},
   "source": [
    "### News Review"
   ]
  },
  {
   "cell_type": "code",
   "execution_count": 14,
   "id": "d73e94d4-2221-48d2-9257-ba72d4c2739a",
   "metadata": {},
   "outputs": [],
   "source": [
    "news = \"\"\"\n",
    "    The United States under President Trump is preparing to impose a steep \n",
    "    tariff hike on Indian exports, potentially doubling duties to 50% by August 27, \n",
    "    a move that has unsettled Indian exporters and investors. Sectors such as \n",
    "    textiles, pharmaceuticals, and IT services are expected to be hit hardest, \n",
    "    while the threat has already triggered volatility in Indian markets. Analysts \n",
    "    warn that such a drastic measure could strain U.S.–India diplomatic relations \n",
    "    at a time when both nations are seeking to deepen strategic cooperation. Business \n",
    "    leaders in India are urging the government to open urgent negotiations with \n",
    "    Washington to prevent further escalation. Economists also caution that retaliatory \n",
    "    tariffs from India could worsen the conflict, affecting global trade flows. On the \n",
    "    U.S. side, consumer prices may rise as import costs increase, reducing affordability \n",
    "    of Indian goods. The development comes even as Trump nominated Sergio Gor as \n",
    "    ambassador to India, highlighting the delicate balance between diplomacy and protectionism.\n",
    "    With the August 27 deadline looming, both countries are under growing pressure to \n",
    "    reach a compromise and avoid sliding into a full-scale trade war.\n",
    "\"\"\""
   ]
  },
  {
   "cell_type": "code",
   "execution_count": 15,
   "id": "bf9cc855-111b-4561-9ea1-623de0a13096",
   "metadata": {},
   "outputs": [
    {
     "name": "stdout",
     "output_type": "stream",
     "text": [
      "- **Sentiment**: Negative\n",
      "- **Is the reviewer harming to others**: No\n",
      "- **Five keywords**: Tariff, India, Exports, Trade War, Diplomacy\n",
      "- **One line summary**: The U.S. plans to impose steep tariffs on Indian exports, risking diplomatic relations and economic stability.\n",
      "- **Future effect**: Potential escalation into a trade war, impacting global trade and consumer prices.\n"
     ]
    }
   ],
   "source": [
    "news_prompt_1 = f\"\"\"\n",
    "Identify the following items from the reviews news:\n",
    "- Sentiment \n",
    "- Is the reviewer is harming to other\n",
    "- Five keywords in list describing the news\n",
    "- One line summary\n",
    "- Future affect \n",
    "The review is delimited with triple backticks.\n",
    "Try to response as sort as possible\n",
    "News Review: '''{news}'''\n",
    "\"\"\"\n",
    "news_response_1 = get_completion(news_prompt_1)\n",
    "print(news_response_1)"
   ]
  },
  {
   "cell_type": "code",
   "execution_count": 16,
   "id": "8bfe18f2-3046-41f9-b83e-ab813d33da1a",
   "metadata": {},
   "outputs": [
    {
     "name": "stdout",
     "output_type": "stream",
     "text": [
      "- **Good or Bad**: Bad for Indian exporters and investors; potential negative impact on U.S.-India relations.\n",
      "- **Hate Comments**: No explicit hate comments present.\n",
      "- **One Line Summary**: The U.S. plans to impose steep tariffs on Indian exports, causing concern for both nations' economies and diplomatic relations.\n",
      "- **Country Discussed**: United States and India.\n",
      "- **Who are Affected**: Indian exporters, investors, and potentially U.S. consumers.\n"
     ]
    }
   ],
   "source": [
    "news_prompt_1 = f\"\"\"\n",
    "Identify the following items from the reviews news:\n",
    "- Determine is it good or bad in both side\n",
    "- Is there any hate comments\n",
    "- One line summary\n",
    "- Which county are they talking about\n",
    "- Who are get affected?\n",
    "The review is delimited with triple backticks.\n",
    "Try to response as sort as possible\n",
    "News Review: '''{news}'''\n",
    "\"\"\"\n",
    "news_response_1 = get_completion(news_prompt_1)\n",
    "print(news_response_1)"
   ]
  },
  {
   "cell_type": "markdown",
   "id": "0a3d922d-aa4f-4e18-af93-16227d28e14b",
   "metadata": {},
   "source": [
    "### Customer Review"
   ]
  },
  {
   "cell_type": "code",
   "execution_count": 17,
   "id": "226ba6d2-d33d-47ef-b4f2-79f6fc41c480",
   "metadata": {},
   "outputs": [],
   "source": [
    "p_review = \"\"\"I recently bought the product and overall, I’m fairly satisfied with the purchase.\n",
    "The design is sleek and modern, which immediately caught my attention.\n",
    "Performance is smooth for everyday tasks, and the battery life lasts comfortably through the day.\n",
    "The display is bright and crisp, making videos and browsing enjoyable.\n",
    "However, the camera quality in low light is quite disappointing compared to what I expected.\n",
    "The speaker output is also average and lacks depth during music playback.\n",
    "I liked the clean software experience, with minimal bloatware slowing things down.\n",
    "Charging speed is decent, but it would have been better if a charger was included in the box.\n",
    "Durability feels solid, though the device is slightly heavier than rivals.\n",
    "Overall, it’s a good product for the price, but with a few compromises that may matter to some buyers.\"\"\""
   ]
  },
  {
   "cell_type": "code",
   "execution_count": 21,
   "id": "5f1d6088-bbfc-4468-84a2-5f1e24898b43",
   "metadata": {},
   "outputs": [
    {
     "data": {
      "text/markdown": [
       "- **Product**: A consumer electronic device (likely a smartphone or tablet).\n",
       "- **Review**: The review is generally positive, highlighting satisfaction with design, performance, and display, but noting some drawbacks in camera quality and speaker output.\n",
       "- **Top 5 Words**: Sleek, Smooth, Bright, Average, Good.\n",
       "- **Expression**: \"Fairly satisfied.\"\n",
       "- **One Line Summary**: A solid product with a sleek design and good performance, but some compromises in camera and audio quality."
      ],
      "text/plain": [
       "<IPython.core.display.Markdown object>"
      ]
     },
     "metadata": {},
     "output_type": "display_data"
    }
   ],
   "source": [
    "c_prompt_1 = f\"\"\"\n",
    "Perform the following task:\n",
    "- This is talking about wich product\n",
    "- How is the review \n",
    "- List top 5 word which describe it\n",
    "- What is the expression\n",
    "- One line summary\n",
    "The review is delimited with triple backticks.\n",
    "Give response as much as sort time.\n",
    "Review: '''{p_review}'''\n",
    "\"\"\"\n",
    "c_response_1 = get_completion(c_prompt_1)\n",
    "display(Markdown(c_response_1))"
   ]
  },
  {
   "cell_type": "markdown",
   "id": "b7b204f7-174c-4873-b113-167c8ef14d43",
   "metadata": {},
   "source": [
    "### Story Review"
   ]
  },
  {
   "cell_type": "code",
   "execution_count": 24,
   "id": "212f8fc9-f003-4742-be48-b1c0524481fe",
   "metadata": {},
   "outputs": [],
   "source": [
    "story = \"\"\"\n",
    "In a quiet village, there lived a proud hare who often boasted about his speed. \n",
    "One day, he mocked a humble tortoise for being so slow. Tired of the ridicule, the tortoise calmly challenged the hare to a race. \n",
    "Amused, the hare agreed and sped off the moment the race began. Halfway through, certain of victory, the hare decided to nap under a tree. \n",
    "Meanwhile, the tortoise kept moving forward at his steady pace, never stopping or turning back. By the time the hare woke up, the tortoise \n",
    "was already at the finish line. The villagers cheered as the tortoise proved that determination and consistency often matter more than arrogance \n",
    "and haste.\n",
    "\"\"\""
   ]
  },
  {
   "cell_type": "code",
   "execution_count": 25,
   "id": "67a0adf7-3b5e-4f58-9048-c62adc1c1e91",
   "metadata": {},
   "outputs": [
    {
     "data": {
      "text/html": [
       "```html\n",
       "<!DOCTYPE html>\n",
       "<html lang=\"en\">\n",
       "<head>\n",
       "    <meta charset=\"UTF-8\">\n",
       "    <meta name=\"viewport\" content=\"width=device-width, initial-scale=1.0\">\n",
       "    <title>The Tortoise and the Hare</title>\n",
       "</head>\n",
       "<body>\n",
       "    <h1>The Tortoise and the Hare</h1>\n",
       "    <h2>Review</h2>\n",
       "    <p>'''\n",
       "    In a quiet village, there lived a proud hare who often boasted about his speed. \n",
       "    One day, he mocked a humble tortoise for being so slow. Tired of the ridicule, the tortoise calmly challenged the hare to a race. \n",
       "    Amused, the hare agreed and sped off the moment the race began. Halfway through, certain of victory, the hare decided to nap under a tree. \n",
       "    Meanwhile, the tortoise kept moving forward at his steady pace, never stopping or turning back. By the time the hare woke up, the tortoise \n",
       "    was already at the finish line. The villagers cheered as the tortoise proved that determination and consistency often matter more than arrogance \n",
       "    and haste.\n",
       "    '''</p>\n",
       "    <h2>Type of Story</h2>\n",
       "    <p>Fable</p>\n",
       "    <h2>Moral of the Story</h2>\n",
       "    <ul>\n",
       "        <li>Slow and steady wins the race.</li>\n",
       "        <li>Arrogance can lead to downfall.</li>\n",
       "    </ul>\n",
       "</body>\n",
       "</html>\n",
       "```"
      ],
      "text/plain": [
       "<IPython.core.display.HTML object>"
      ]
     },
     "metadata": {},
     "output_type": "display_data"
    }
   ],
   "source": [
    "c_prompt_1 = f\"\"\"\n",
    "Perform the following task:\n",
    "- Suggest the title of the story\n",
    "- Write review for this story\n",
    "- What type of story is this\n",
    "- List two moral of story:\n",
    "The review is delimited with triple backticks.\n",
    "Give response as much as sort time.\n",
    "Give the response in the HTML\n",
    "Review: '''{story}'''\n",
    "\"\"\"\n",
    "c_response_1 = get_completion(c_prompt_1)\n",
    "display(HTML(c_response_1))"
   ]
  },
  {
   "cell_type": "markdown",
   "id": "402b9fd2-59d2-4558-8f80-401fe8d68fa6",
   "metadata": {},
   "source": [
    "### Genre"
   ]
  },
  {
   "cell_type": "code",
   "execution_count": 28,
   "id": "42647e76-7f70-4b66-92bd-e798501ad3c3",
   "metadata": {},
   "outputs": [],
   "source": [
    "songs = \"\"\"\n",
    "I won't just survive\n",
    "Oh, you will see me thrive\n",
    "Can't write my story\n",
    "I'm beyond the archetype\n",
    "I won't just conform\n",
    "No matter how you shake my core\n",
    "'Cause my roots, they run deep, oh\n",
    "Oh ye of so little faith, don't doubt it, don't doubt it\n",
    "Victory is in my veins, I know it, I know it\n",
    "And I will not negotiate, I'll fight it, I'll fight it\n",
    "I will transform\n",
    "When, when the fire's at my feet again\n",
    "And the vultures all start circling, they're whispering\n",
    "\"You're out of time,\" but still I rise\n",
    "This is no mistake, no accident\n",
    "When you think the final nail is in, think again\n",
    "Don't be surprised, I will still rise\n",
    "I must stay conscious\n",
    "Through the madness and chaos\n",
    "So I call on my angels, they say\n",
    "\"Oh ye of so little faith, don't doubt it, don't doubt it\n",
    "Victory is in your veins, you know it, you know it\n",
    "And you will not negotiate, just fight it, just fight it\n",
    "And be transformed\"\n",
    "'Cause when, when the fire's at my feet again\n",
    "And the vultures all start circling, they're whispering\n",
    "\"You're out of time,\" but still I rise\n",
    "This is no mistake, no accident\n",
    "When you think the final nail is in, think again\n",
    "Don't be surprised, I will still rise\n",
    "Don't doubt it, don't doubt (oh-oh-oh-oh)\n",
    "You know it, you know it (still rise)\n",
    "Just fight it, just fight it\n",
    "Don't be surprised, I will still rise \"\"\""
   ]
  },
  {
   "cell_type": "code",
   "execution_count": 29,
   "id": "1ef4082e-ae29-4af3-936f-b6c4b9836935",
   "metadata": {},
   "outputs": [
    {
     "data": {
      "text/html": [
       "```html\n",
       "<!DOCTYPE html>\n",
       "<html lang=\"en\">\n",
       "<head>\n",
       "    <meta charset=\"UTF-8\">\n",
       "    <meta name=\"viewport\" content=\"width=device-width, initial-scale=1.0\">\n",
       "    <title>Song Analysis</title>\n",
       "</head>\n",
       "<body>\n",
       "    <h1>Title of the Story</h1>\n",
       "    <p>Still I Rise</p>\n",
       "\n",
       "    <h2>What is this song about?</h2>\n",
       "    <p>This song is about resilience, empowerment, and the determination to overcome challenges and adversity. It emphasizes the strength to rise above difficulties and not to be defined by others' doubts.</p>\n",
       "\n",
       "    <h2>Top 5 Words that Describe this Song</h2>\n",
       "    <ul>\n",
       "        <li>Resilience</li>\n",
       "        <li>Empowerment</li>\n",
       "        <li>Strength</li>\n",
       "        <li>Transformation</li>\n",
       "        <li>Defiance</li>\n",
       "    </ul>\n",
       "\n",
       "    <h2>Conclusion Helpful in Our Life</h2>\n",
       "    <p>The conclusion from this song is that we should believe in ourselves and our abilities, even in the face of adversity. It encourages us to fight for our goals and not to let others' doubts deter us.</p>\n",
       "\n",
       "    <h2>Is it Really Helpful?</h2>\n",
       "    <p>Yes, the message of resilience and self-belief can be very helpful in motivating individuals to push through tough times and emerge stronger.</p>\n",
       "\n",
       "    <h2>Sentiment</h2>\n",
       "    <p>The sentiment of the song is overwhelmingly positive, focusing on hope, strength, and the power of perseverance.</p>\n",
       "</body>\n",
       "</html>\n",
       "```"
      ],
      "text/plain": [
       "<IPython.core.display.HTML object>"
      ]
     },
     "metadata": {},
     "output_type": "display_data"
    }
   ],
   "source": [
    "s_prompt_1 = f\"\"\"\n",
    "Perform the following task:\n",
    "- Suggest the title of the story\n",
    "- What is this song about\n",
    "- List the top 5 words which describe this song\n",
    "- What is the conclusion from here which will be helpful in our life\n",
    "- Is it really helpfull\n",
    "- What's it sentiment\n",
    "The review is delimited with triple backticks.\n",
    "Give response as much as sort time.\n",
    "Give the response in the HTML\n",
    "Review: '''{songs}'''\n",
    "\"\"\"\n",
    "s_response_1 = get_completion(s_prompt_1)\n",
    "display(HTML(s_response_1))"
   ]
  },
  {
   "cell_type": "markdown",
   "id": "3feea718-e903-4eb4-a512-e60f48c388bc",
   "metadata": {},
   "source": [
    "# Transforming\n",
    "Tramsforming is use in Large Language Models for text transformation tasks such as language translation, spelling and grammar checking, tone adjustment, and format conversion."
   ]
  },
  {
   "cell_type": "markdown",
   "id": "1eaf94cb-6be1-445a-a8b6-56ca7408e9cc",
   "metadata": {},
   "source": [
    "### Language Translation"
   ]
  },
  {
   "cell_type": "code",
   "execution_count": 30,
   "id": "fcfe7347-1552-47b1-b2d1-60ba93d0ef71",
   "metadata": {},
   "outputs": [],
   "source": [
    "text = \" Hi, I am Albatross\""
   ]
  },
  {
   "cell_type": "code",
   "execution_count": 31,
   "id": "0270fdcc-d112-48b5-bd77-0d445c757dc6",
   "metadata": {},
   "outputs": [
    {
     "name": "stdout",
     "output_type": "stream",
     "text": [
      "Here is the translation of the text into Nepali:\n",
      "\n",
      "नमस्ते, म अल्बाट्रस हुँ।\n"
     ]
    }
   ],
   "source": [
    "prompt = f\"\"\"\n",
    "    Translate the text into nepali.\n",
    "    The given text is delimited by triple backticks:\n",
    "    In English: {text}\n",
    "\"\"\"\n",
    "l_translate = get_completion(prompt)\n",
    "print(l_translate)"
   ]
  },
  {
   "cell_type": "markdown",
   "id": "939d7ce7-97d6-4311-9f13-1d97237497c2",
   "metadata": {},
   "source": [
    "### Spelling and Grammar Checking"
   ]
  },
  {
   "cell_type": "code",
   "execution_count": 33,
   "id": "c96bf10b-5ac8-4fa7-b7a9-932168270d72",
   "metadata": {},
   "outputs": [
    {
     "name": "stdout",
     "output_type": "stream",
     "text": [
      "Here is the corrected version of your text:\n",
      "\n",
      "\"He is a good boy, studying in college.\"\n",
      "\n",
      "**Corrections made:**\n",
      "1. \"boys\" should be \"boy\" to match the singular subject \"He.\"\n",
      "2. \"Studing\" should be corrected to \"studying\" (spelling error).\n",
      "3. \"Colleges\" should be \"college\" for consistency and to refer to the general concept rather than multiple institutions. \n",
      "4. A comma was added to connect the two clauses more smoothly.\n"
     ]
    }
   ],
   "source": [
    "prompt = f\"\"\"\n",
    "    Check the grammer and spelling checking and also where is mistake\n",
    "    in the following text: \n",
    "    He is a good boys. Studing in Colleges.\n",
    "\"\"\"\n",
    "spell_check = get_completion(prompt)\n",
    "print(spell_check)"
   ]
  },
  {
   "cell_type": "markdown",
   "id": "49012c18-99d6-42f0-af8d-42535e7ac800",
   "metadata": {},
   "source": [
    "### Tone Adjustment and Format conversion"
   ]
  },
  {
   "cell_type": "code",
   "execution_count": 34,
   "id": "29448ffb-86a1-4d92-9c4d-598aeb9b3f4e",
   "metadata": {},
   "outputs": [
    {
     "name": "stdout",
     "output_type": "stream",
     "text": [
      "He is a diligent young man currently pursuing his studies in college.\n"
     ]
    }
   ],
   "source": [
    "prompt = f\"\"\"\n",
    "    Adjust the tone in format way and well format\n",
    "    in the following text: \n",
    "    He is a good boy, studying in college.\n",
    "\"\"\"\n",
    "spell_check = get_completion(prompt)\n",
    "print(spell_check)"
   ]
  },
  {
   "cell_type": "markdown",
   "id": "4c5eeb7d-0b15-4a7c-8cd1-1b764eceb233",
   "metadata": {},
   "source": [
    "# Expanding\n",
    "In this lesson, you will generate customer service emails that are tailored to each customer's review."
   ]
  },
  {
   "cell_type": "code",
   "execution_count": 37,
   "id": "28d4942b-8d14-4b12-9e4e-80ae1445114e",
   "metadata": {},
   "outputs": [],
   "source": [
    "p_review = \"\"\"I recently purchased the CMF Phone 1 from your store, and I must say my experience has been extremely disappointing. \n",
    "The phone was advertised as having excellent performance and battery life, but within a week of use, I have faced constant overheating, \n",
    "apps crashing, and the battery draining in just a few hours.On top of that, the \n",
    "camera quality is nowhere close to what was promised in the product description and \n",
    "promotional materials. I feel misled by the positive reviews displayed on your \n",
    "website, which clearly do not reflect the actual performance of this device.I have \n",
    "already contacted your customer service, but the lack of timely and helpful \n",
    "response has only added to my frustration. At this point, I expect either a full \n",
    "refund or an immediate replacement. If this is not resolved soon, I will be forced \n",
    "to share my negative experience on public platforms.\"\"\""
   ]
  },
  {
   "cell_type": "code",
   "execution_count": 40,
   "id": "e5ef3c48-9749-4014-b858-0ad74f774e9a",
   "metadata": {},
   "outputs": [
    {
     "name": "stdout",
     "output_type": "stream",
     "text": [
      "Subject: Thank You for Your Feedback\n",
      "\n",
      "Dear Valued Customer,\n",
      "\n",
      "Thank you for taking the time to share your experience with the CMF Phone 1. We sincerely apologize for the issues you have encountered, including overheating, app crashes, and battery performance that did not meet your expectations. We understand how frustrating this must be, especially after relying on the product descriptions and reviews.\n",
      "\n",
      "We appreciate your feedback regarding our customer service response time, and we are committed to improving in this area. To address your concerns promptly, we encourage you to reach out to our customer service team directly at abc@customer.com or by calling 948594854954. They will be able to assist you with your request for a refund or replacement.\n",
      "\n",
      "Thank you once again for your valuable feedback. We hope to resolve this matter to your satisfaction.\n",
      "\n",
      "Best regards,\n",
      "\n",
      "AI Agent  \n",
      "Customer Service Team\n"
     ]
    }
   ],
   "source": [
    "prompt = f\"\"\"\n",
    "    Assume, you are a customer service AI assistant.\n",
    "    Your task is to sent an email reply to the valuable customer given the customer\n",
    "    email delimited by triple backlet and gerenate a reply to tank the customer for\n",
    "    review. If the review is Postivie or neutral tank thank for review. If the\n",
    "    sentiment is negative than apologize and suggest to reach out to custormer service\n",
    "    (abc@customer.com or 948594854954).\n",
    "    Make sure to use specific details from the review.\n",
    "    Write in a concise and profesional tone.\n",
    "    Sign the email as AI Agemt/\n",
    "    Customer review: '''{p_review}'''\n",
    "\"\"\"\n",
    "response = get_completion(prompt)\n",
    "print(response)"
   ]
  },
  {
   "cell_type": "code",
   "execution_count": null,
   "id": "ad42276c-61dd-46f9-baf6-ab2dbb0e2e9e",
   "metadata": {},
   "outputs": [],
   "source": []
  }
 ],
 "metadata": {
  "kernelspec": {
   "display_name": "Python 3 (ipykernel)",
   "language": "python",
   "name": "python3"
  },
  "language_info": {
   "codemirror_mode": {
    "name": "ipython",
    "version": 3
   },
   "file_extension": ".py",
   "mimetype": "text/x-python",
   "name": "python",
   "nbconvert_exporter": "python",
   "pygments_lexer": "ipython3",
   "version": "3.12.11"
  }
 },
 "nbformat": 4,
 "nbformat_minor": 5
}

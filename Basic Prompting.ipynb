{
 "cells": [
  {
   "cell_type": "code",
   "execution_count": 51,
   "id": "6ad81228-5ad7-42b3-9cdd-41dc72986396",
   "metadata": {},
   "outputs": [],
   "source": [
    "import openai\n",
    "import os\n",
    "from IPython.display import Markdown, display\n",
    "import json"
   ]
  },
  {
   "cell_type": "markdown",
   "id": "0a9b64e5-fb21-4e85-b50c-11bdcead190b",
   "metadata": {},
   "source": [
    "## Setup"
   ]
  },
  {
   "cell_type": "code",
   "execution_count": 38,
   "id": "0fdf98db-3bd5-451c-a451-db3ea806951e",
   "metadata": {},
   "outputs": [],
   "source": [
    "from dotenv import load_dotenv, find_dotenv\n",
    "_ = load_dotenv(find_dotenv())\n",
    "\n",
    "openai.api_key = os.getenv('OPENAI_API_KEY')"
   ]
  },
  {
   "cell_type": "markdown",
   "id": "c7f524a2-c621-498b-9642-70910cb2da9b",
   "metadata": {},
   "source": [
    "### Helper function"
   ]
  },
  {
   "cell_type": "code",
   "execution_count": 48,
   "id": "59bd0614-3c68-48b4-b6be-20f8b8474127",
   "metadata": {},
   "outputs": [],
   "source": [
    "def get_completion(prompt, model=\"gpt-4o-mini\"):\n",
    "    messages = [{\"role\": \"user\", \"content\": prompt}]\n",
    "    response = openai.chat.completions.create(\n",
    "        model=model,\n",
    "        messages=messages,\n",
    "        temperature=0,\n",
    "    )\n",
    "    return response.choices[0].message.content"
   ]
  },
  {
   "cell_type": "markdown",
   "id": "7904cb9f-6762-49e9-8df8-7e955be9a42e",
   "metadata": {},
   "source": [
    "## Prompting Principles\n",
    "- Principle 1: Write clear and specific instructions\n",
    "- Principle 2: Give the model time to 'think'"
   ]
  },
  {
   "cell_type": "markdown",
   "id": "2abddecb-cd3e-4622-94b6-2fb6c1cc3d4a",
   "metadata": {},
   "source": [
    "### Principle 1: Write clear and specific instructions\n",
    "- Tactics 1: Use delimiters to clearly indicate distinct parts of the input: ```, \"\"\", <>, <tag> </tag>\n",
    "- Tactics 2: Ask for a structured output: JSON, HTML\n",
    "- Ask the model to check wheather conditions are satisfied\n",
    "- \"Few-shot\" prompting"
   ]
  },
  {
   "cell_type": "code",
   "execution_count": 49,
   "id": "6e6c5b93-a309-4b27-99ff-dfe106e1eea8",
   "metadata": {},
   "outputs": [
    {
     "name": "stdout",
     "output_type": "stream",
     "text": [
      "To achieve desired outputs from a model, provide clear and specific instructions, as longer prompts often enhance clarity and context, leading to more relevant responses.\n"
     ]
    }
   ],
   "source": [
    "text = \"\"\"\n",
    "You should express what you want a model to do by providing instructions that are as clear and \n",
    "specific as you can possibly make them.This will guide the model towards the desired output, \n",
    "and reduce the chances of receiving irrelevant \n",
    "or incorrect responses. Don't confuse writing a \n",
    "clear prompt with writing a short prompt. \n",
    "In many cases, longer prompts provide more clarity \n",
    "and context for the model, which can lead to \n",
    "more detailed and relevant outputs.\n",
    "\"\"\"\n",
    "\n",
    "prompt = f\"\"\"\n",
    "Summarize the text delimited by triple backticks \n",
    "into a single sentence.\n",
    "```{text}```\n",
    "\"\"\"\n",
    "\n",
    "response = get_completion(prompt)\n",
    "print(response)"
   ]
  },
  {
   "cell_type": "code",
   "execution_count": 53,
   "id": "57161a92-7c12-421d-b977-8cc892449eb5",
   "metadata": {},
   "outputs": [
    {
     "data": {
      "text/markdown": [
       "Here are three highly regarded novels that are often studied in India, along with their details:\n",
       "\n",
       "### 1. **\"The God of Small Things\"**\n",
       "- **Author:** Arundhati Roy\n",
       "- **ISBN:** 978-0006550686\n",
       "- **Awards:** Booker Prize (1997)\n",
       "- **Genre:** Fiction, Literary Fiction\n",
       "- **Summary:** This novel explores the childhood experiences of fraternal twins in Kerala, India, and how their lives are irrevocably shaped by the social and political issues surrounding them.\n",
       "\n",
       "### 2. **\"A Fine Balance\"**\n",
       "- **Author:** Rohinton Mistry\n",
       "- **ISBN:** 978-0670042260\n",
       "- **Awards:** Giller Prize (1995), Commonwealth Writers' Prize (1996)\n",
       "- **Genre:** Fiction, Historical Fiction\n",
       "- **Summary:** Set in India during the Emergency period of the 1970s, this novel follows the intertwined lives of four characters from different backgrounds as they navigate the challenges of poverty, oppression, and hope.\n",
       "\n",
       "### 3. **\"Train to Pakistan\"**\n",
       "- **Author:** Khushwant Singh\n",
       "- **ISBN:** 978-0143030962\n",
       "- **Awards:** None (but highly acclaimed)\n",
       "- **Genre:** Historical Fiction\n",
       "- **Summary:** This poignant narrative depicts the impact of the Partition of India in 1947 on a small village near the border, highlighting the human cost of communal violence and the loss of innocence.\n",
       "\n",
       "These novels are not only significant in Indian literature but also provide deep insights into the cultural, social, and historical contexts of India."
      ],
      "text/plain": [
       "<IPython.core.display.Markdown object>"
      ]
     },
     "metadata": {},
     "output_type": "display_data"
    }
   ],
   "source": [
    "prompt = f\"\"\"\n",
    "Generate a list of the three best novel book which is studied in india.\n",
    "Also provide the information about the book author, isbn, award winning, genre and 1 sentence summary\"\n",
    "\"\"\"\n",
    "response = get_completion(prompt)\n",
    "display(Markdown(response))"
   ]
  },
  {
   "cell_type": "code",
   "execution_count": 54,
   "id": "78274b02-9960-46d5-a465-4243f225548f",
   "metadata": {},
   "outputs": [
    {
     "name": "stdout",
     "output_type": "stream",
     "text": [
      "Here’s a JSON representation of three top adventure travel destinations in India that feature waterfalls, mountains, trekking opportunities, and stunning mountain views, along with their details:\n",
      "\n",
      "```json\n",
      "[\n",
      "    {\n",
      "        \"place\": \"Manali\",\n",
      "        \"distance_from_Hyderabad\": \"1,800 km\",\n",
      "        \"cost_of_living\": \"Moderate\",\n",
      "        \"place_to_enjoy\": \"Solang Valley, Rohtang Pass\",\n",
      "        \"famous_for\": \"Adventure sports like paragliding, skiing, and trekking; beautiful landscapes and waterfalls\"\n",
      "    },\n",
      "    {\n",
      "        \"place\": \"Rishikesh\",\n",
      "        \"distance_from_Hyderabad\": \"1,500 km\",\n",
      "        \"cost_of_living\": \"Affordable\",\n",
      "        \"place_to_enjoy\": \"Ganga River, Laxman Jhula\",\n",
      "        \"famous_for\": \"White-water rafting, yoga retreats, and scenic views of the Ganges; proximity to the Himalayas\"\n",
      "    },\n",
      "    {\n",
      "        \"place\": \"Munnar\",\n",
      "        \"distance_from_Hyderabad\": \"700 km\",\n",
      "        \"cost_of_living\": \"Moderate\",\n",
      "        \"place_to_enjoy\": \"Tea Gardens, Anamudi Peak\",\n",
      "        \"famous_for\": \"Stunning tea plantations, trekking trails, and waterfalls like Attukal and Lakkam\"\n",
      "    }\n",
      "]\n",
      "```\n",
      "\n",
      "These destinations are known for their adventure activities, beautiful landscapes, and opportunities for trekking and enjoying nature.\n"
     ]
    }
   ],
   "source": [
    "text = \"\"\"\n",
    "Write a most famous places of India to travel which give thrills of adventure and also have\n",
    " waterfall, mountain, trekking and good mountain view.\n",
    "\"\"\"\n",
    "prompt = f\"\"\"\n",
    "List top three places in the table json format where it contain place and the distance from Hyderabad,\n",
    "cost of living, place to enjoy and what it's famous for \n",
    "```{text}```\n",
    "\"\"\"\n",
    "\n",
    "response = get_completion(prompt)\n",
    "print(response)"
   ]
  },
  {
   "cell_type": "code",
   "execution_count": 55,
   "id": "1f4282b0-42c6-462f-9cc4-725ed708209c",
   "metadata": {},
   "outputs": [
    {
     "name": "stdout",
     "output_type": "stream",
     "text": [
      "The original command has a few issues with clarity and sequence. Here’s a modified version along with the original version, presented stepwise.\n",
      "\n",
      "### Original Version:\n",
      "1. For preparing tea first boil the water,\n",
      "2. add milk after sometimes,\n",
      "3. after that add sugar and tea powder and miked it.\n",
      "\n",
      "### Issues Identified:\n",
      "- The phrase \"add milk after sometimes\" is unclear; it should specify a time frame.\n",
      "- The word \"miked\" is a typo and should be \"mix.\"\n",
      "- The sequence of steps can be improved for clarity.\n",
      "\n",
      "### Modified Version:\n",
      "1. First, boil the water.\n",
      "2. Once the water is boiling, add milk and let it simmer for a few minutes.\n",
      "3. After that, add sugar and tea powder.\n",
      "4. Finally, mix everything well.\n",
      "\n",
      "### Summary of Modifications:\n",
      "- Clarified the timing for adding milk.\n",
      "- Corrected the typo from \"miked\" to \"mix.\"\n",
      "- Improved the sequence for better understanding.\n"
     ]
    }
   ],
   "source": [
    "text = \"\"\"\n",
    "For preparing tea first boil the water, add milk after sometimes, after that add sugar and tea\n",
    "powder and miked it.\n",
    "\"\"\"\n",
    "prompt = f\"\"\"\n",
    "If the command is wrong or have to modify they display need modification and after that display\n",
    "the modification version with the original version as well in step wise\n",
    "```{text}```\n",
    "\"\"\"\n",
    "\n",
    "response = get_completion(prompt)\n",
    "print(response)"
   ]
  },
  {
   "cell_type": "code",
   "execution_count": 56,
   "id": "1ebdeb09-54ad-46bc-9881-e7af9fd7cd7b",
   "metadata": {},
   "outputs": [
    {
     "name": "stdout",
     "output_type": "stream",
     "text": [
      "```\n",
      "<tree> : My specialty lies in my steadfastness. I provide shade and shelter, nurturing life around me while standing tall and strong through the seasons.\n",
      "\n",
      "<animal> : My specialty is my adaptability. I roam freely, exploring diverse landscapes and experiencing the richness of life in every corner of the world.\n",
      "\n",
      "<bird> : My specialty is my ability to soar through the skies. I dance with the winds, witnessing the world from above, and my songs bring joy to all who hear them.\n",
      "\n",
      "<river> : My specialty is my flow. I carve paths through the earth, nourishing the land and all living beings, while my waters reflect the beauty of the sky above.\n",
      "```\n"
     ]
    }
   ],
   "source": [
    "text = \"\"\"\n",
    "<tree> : I am the happiest. I don't have to move and don't have to talk enjoy staying in single\n",
    "place and feel the winds and see the open sky, sun and beauty of nature.\n",
    "<animal> : I am living like a king full of enjoyment and enjoying different place of world.\n",
    "<bird> : What is my speciality?\n",
    "<river>: What is my speciality?\n",
    "\"\"\"\n",
    "prompt = f\"\"\"\n",
    "Your task is to answer in a consistent style\n",
    "```{text}```\n",
    "\"\"\"\n",
    "\n",
    "response = get_completion(prompt)\n",
    "print(response)"
   ]
  },
  {
   "cell_type": "markdown",
   "id": "36442eb8-6187-47ad-aad9-59126aaa4388",
   "metadata": {},
   "source": [
    "### Principle 2: Give the model time to \"think\"\n",
    "- Tactics 1: Specify the steps required to complete a task\n",
    "- Tactics 2: Instruct the model to work out its own solution before rushing to a conclusion"
   ]
  },
  {
   "cell_type": "code",
   "execution_count": 63,
   "id": "2799b6c2-ad2f-4a76-bafb-12fdb41d7430",
   "metadata": {},
   "outputs": [],
   "source": [
    "text = f\"\"\"\n",
    "I woke up early morning in the vally in remote village of nepal from where I saw the mountain\n",
    "who was greeting with the white smile and animals where playing arounds. I was feeling fresh and\n",
    "happy which healthy air and enjoying the nature with some ships of tea.\n",
    "\"\"\"\n",
    "prompt_1 = f\"\"\"\n",
    "Perform the forllowing tasks:\n",
    "1 - Summarize the text having  text delimited with '''\n",
    "2 - Give the summary in Nepali\n",
    "3 - Write a smooting poem in Nepali, and English\n",
    "4 - Output in Markdown format\n",
    "Text:\n",
    "```{text}```\n",
    "\"\"\"\n",
    "response = get_completion(prompt_1)"
   ]
  },
  {
   "cell_type": "code",
   "execution_count": 66,
   "id": "b18fade9-64a5-49e0-a292-0dbc66acf7ed",
   "metadata": {},
   "outputs": [
    {
     "data": {
      "text/markdown": [
       "```markdown\n",
       "### 1. Summary of the Text\n",
       "The narrator describes waking up early in a remote village in Nepal, where they enjoy the sight of mountains, playful animals, and the fresh air while sipping tea.\n",
       "\n",
       "### 2. Summary in Nepali\n",
       "लेखकले नेपालका एक दुर्गम गाउँमा बिहान चाँडै उठेको अनुभव वर्णन गरेका छन्, जहाँ उनी पहाडको दृश्य, खेलिरहेका जनावरहरू, र चिया पिउँदै ताजा हावा आनन्द लिइरहेका छन्।\n",
       "\n",
       "### 3. Smoothing Poem in Nepali\n",
       "सुनौलो बिहानको किरण,\n",
       "सुगन्धित हावामा छायाँ।\n",
       "पर्वतको शिखरमा हाँसो,\n",
       "प्रकृतिको काखमा माया।\n",
       "\n",
       "खेलिरहेका जनावरहरू,\n",
       "संगै चिया पिउँदै हर्ष।\n",
       "सुखद क्षणको यो यात्रा,\n",
       "सधैं रहोस् मनमा सर्ष।\n",
       "\n",
       "### Smoothing Poem in English\n",
       "Golden rays of morning light,  \n",
       "In fragrant air, a gentle sight.  \n",
       "Mountains smile with joy so bright,  \n",
       "In nature's arms, everything feels right.  \n",
       "\n",
       "Playful animals all around,  \n",
       "With tea in hand, joy is found.  \n",
       "This journey of bliss, a sweet delight,  \n",
       "May it forever linger in our hearts, so light.  \n",
       "```"
      ],
      "text/plain": [
       "<IPython.core.display.Markdown object>"
      ]
     },
     "metadata": {},
     "output_type": "display_data"
    }
   ],
   "source": [
    "display(Markdown(response))"
   ]
  },
  {
   "cell_type": "code",
   "execution_count": 71,
   "id": "d63625e1-eaf5-4721-94b1-3da0bd19b259",
   "metadata": {},
   "outputs": [
    {
     "name": "stdout",
     "output_type": "stream",
     "text": [
      "Question:\n",
      "I took a home rent where I paid Rs 10000 room rent monthly. I gave 20000 deposit. After that I paid maintence charge 2000 permonths. How much I have to pay for first month.\n",
      "\n",
      "Solution:\n",
      "I paid total of 30000 as for room rent and deposit.\n",
      "\n",
      "Correct or Not: Not Correct\n",
      "\n",
      "Reason: The solution incorrectly adds the room rent and deposit. The question asks for the total amount to be paid for the first month, which should include the room rent and maintenance charge, but not the deposit (as it is typically a refundable amount).\n",
      "\n",
      "Actual Solution if Needed:\n",
      "To calculate the total amount to be paid for the first month:\n",
      "- Room Rent: Rs 10000\n",
      "- Maintenance Charge: Rs 2000\n",
      "\n",
      "Total for the first month = Room Rent + Maintenance Charge = 10000 + 2000 = Rs 12000. \n",
      "\n",
      "So, the correct answer is Rs 12000.\n"
     ]
    }
   ],
   "source": [
    "text = f\"\"\"\n",
    "Question:\n",
    "I took a home rent where I paid Rs 10000 room rent monthly. I gave 20000 deposit. After that\n",
    "I paid maintence charge 2000 permonths. How much I have to pay for first month.\n",
    "\n",
    "Solution:\n",
    "I paid total of 30000 as for room rent and deposit.\n",
    "\"\"\"\n",
    "prompt_3 = f\"\"\"\n",
    "Determine the given text in delimiter ``` is correct or not\n",
    "Give acknowledment it's correct or not.\n",
    "If it's not correct point out where is mistake and show the actual solution in given format:\n",
    "Question:\n",
    "Given Anser:\n",
    "Correct or Not: Reason\n",
    "Actual Solution if Needed:\n",
    "---\n",
    "Text:\n",
    "```{text}```\n",
    "\"\"\"\n",
    "response_3 = get_completion(prompt_3)\n",
    "print(response_3)"
   ]
  },
  {
   "cell_type": "markdown",
   "id": "f9f93eaa-ec38-4384-8220-fb326ee4a4fb",
   "metadata": {},
   "source": [
    "## Model Limitation:\n",
    "- `Hallucinations`"
   ]
  },
  {
   "cell_type": "code",
   "execution_count": 75,
   "id": "cb719ea4-66de-440f-906b-d83fac47e2f6",
   "metadata": {},
   "outputs": [
    {
     "name": "stdout",
     "output_type": "stream",
     "text": [
      "In India, the concept of alimony is primarily governed by the Hindu Marriage Act, 1955, and the Divorce Act, 1869, among other laws. While it is more common for wives to receive alimony from husbands, there are instances where husbands can also claim alimony from their wives. Here are three notable statements or principles from Indian courts regarding husbands receiving alimony:\n",
      "\n",
      "1. **Equality and Gender Neutrality**: The Supreme Court of India has emphasized that the law should be gender-neutral when it comes to alimony. In the case of *Vishaka v. State of Rajasthan (1997)*, the court highlighted the need for equality in legal provisions, stating that both spouses have the right to seek maintenance based on their financial needs and the other spouse's ability to pay. This principle has been applied in cases where husbands have successfully claimed alimony from their wives.\n",
      "\n",
      "2. **Financial Dependency**: In the case of *Rajnesh v. Neha (2021)*, the Supreme Court ruled that the financial status of both parties should be considered when determining alimony. If a husband can demonstrate that he is financially dependent on his wife or that he has a lower income, he may be entitled to receive alimony. The court recognized that the traditional roles of men and women are evolving, and financial dependency can exist in various forms.\n",
      "\n",
      "3. **Standard of Living and Contribution**: In the case of *K. S. Puttaswamy v. Union of India (2017)*, the court acknowledged that the standard of living during the marriage and the contributions made by both spouses should be taken into account when deciding on alimony. If a husband can prove that he contributed significantly to the household or that the wife has a higher income, he may be awarded alimony to maintain a similar standard of living post-divorce.\n",
      "\n",
      "These principles reflect the evolving nature of alimony laws in India, recognizing that both men and women can be entitled to financial support after a divorce based on their circumstances.\n"
     ]
    }
   ],
   "source": [
    "prompt_h = f\"\"\"\n",
    "Describe a 3 statement from court of India where Husband get alominy from wife after divorce\n",
    "\"\"\"\n",
    "response_h = get_completion(prompt_h)\n",
    "print(response_h)"
   ]
  },
  {
   "cell_type": "code",
   "execution_count": null,
   "id": "c6b4951a-4211-4edf-94a7-122efe9ec0d3",
   "metadata": {},
   "outputs": [],
   "source": []
  }
 ],
 "metadata": {
  "kernelspec": {
   "display_name": "Python 3 (ipykernel)",
   "language": "python",
   "name": "python3"
  },
  "language_info": {
   "codemirror_mode": {
    "name": "ipython",
    "version": 3
   },
   "file_extension": ".py",
   "mimetype": "text/x-python",
   "name": "python",
   "nbconvert_exporter": "python",
   "pygments_lexer": "ipython3",
   "version": "3.12.11"
  }
 },
 "nbformat": 4,
 "nbformat_minor": 5
}
